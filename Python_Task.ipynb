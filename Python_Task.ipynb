{
  "cells": [
    {
      "cell_type": "markdown",
      "metadata": {
        "id": "yWMbeJ5BHL7m"
      },
      "source": [
        "Machine Learning and Data Analytics Tasks:\n",
        "Task 1: Python"
      ]
    },
    {
      "cell_type": "markdown",
      "metadata": {
        "id": "vpdwDRL_HIkh"
      },
      "source": [
        "Question 1"
      ]
    },
    {
      "cell_type": "code",
      "execution_count": 7,
      "metadata": {
        "colab": {
          "base_uri": "https://localhost:8080/"
        },
        "id": "Cdhg161lGvU9",
        "outputId": "dec56a13-51b9-4e76-f3ea-528948dc56dd"
      },
      "outputs": [
        {
          "name": "stdout",
          "output_type": "stream",
          "text": [
            "8\n",
            "Weird\n"
          ]
        }
      ],
      "source": [
        "import math\n",
        "import os\n",
        "import random\n",
        "import re\n",
        "import sys\n",
        "\n",
        "\n",
        "\n",
        "if __name__ == '__main__':\n",
        "    n = int(input().strip())\n",
        "if n%2==0:\n",
        "    if n in range(2,6):\n",
        "        print(\"Not Weird\")\n",
        "    elif n in range(6,21):\n",
        "        print(\"Weird\")\n",
        "    else:\n",
        "        print(\"Not Weird\")\n",
        "else:\n",
        "    print(\"Weird\")"
      ]
    },
    {
      "cell_type": "markdown",
      "metadata": {
        "id": "HksJAI6qHzY0"
      },
      "source": [
        "Question 2"
      ]
    },
    {
      "cell_type": "code",
      "execution_count": 8,
      "metadata": {
        "colab": {
          "base_uri": "https://localhost:8080/"
        },
        "id": "S09v0mAEH1mo",
        "outputId": "9c88055e-e37d-47d2-f08f-b9a5e62a39e8"
      },
      "outputs": [
        {
          "name": "stdout",
          "output_type": "stream",
          "text": [
            "5\n",
            "0\n",
            "1\n",
            "4\n",
            "9\n",
            "16\n"
          ]
        }
      ],
      "source": [
        "if __name__ == '__main__':\n",
        "    n = int(input())\n",
        "    for i in range(n):\n",
        "        print(i ** 2)"
      ]
    },
    {
      "cell_type": "markdown",
      "metadata": {
        "id": "dqYBUGvFI7MK"
      },
      "source": [
        "Question 3"
      ]
    },
    {
      "cell_type": "code",
      "execution_count": 9,
      "metadata": {
        "colab": {
          "base_uri": "https://localhost:8080/"
        },
        "id": "ObSm-Eb1I8QR",
        "outputId": "ca7ebfff-62b6-44a5-dc39-b4878a56810e"
      },
      "outputs": [
        {
          "name": "stdout",
          "output_type": "stream",
          "text": [
            "2100\n",
            "False\n"
          ]
        }
      ],
      "source": [
        "def is_leap(year):\n",
        "    leap = False\n",
        "\n",
        "    if year % 4 == 0:\n",
        "        if year % 100 == 0:\n",
        "            if year % 400 == 0:\n",
        "                return True\n",
        "            else:\n",
        "                return leap\n",
        "        return True\n",
        "\n",
        "    return leap\n",
        "\n",
        "year = int(input())\n",
        "print(is_leap(year))"
      ]
    },
    {
      "cell_type": "markdown",
      "metadata": {
        "id": "LectwzYQJE04"
      },
      "source": [
        "Question 4"
      ]
    },
    {
      "cell_type": "code",
      "execution_count": 15,
      "metadata": {
        "colab": {
          "base_uri": "https://localhost:8080/"
        },
        "id": "zyxB0dtSJF0S",
        "outputId": "c9a46d71-a83b-4097-80fc-c52c21f3092b"
      },
      "outputs": [
        {
          "name": "stdout",
          "output_type": "stream",
          "text": [
            "4\n",
            "append 1\n",
            "insert 4 1\n",
            "append 2\n",
            "sort\n"
          ]
        }
      ],
      "source": [
        "if __name__ == '__main__':\n",
        "    N = int(input())\n",
        "    lst = []\n",
        "    for i in range(N):\n",
        "        command = input().split()\n",
        "        if command[0] == \"insert\":\n",
        "            lst.insert(int(command[1]),int(command[2]))\n",
        "        elif command[0] == \"print\":\n",
        "            print(lst)\n",
        "        elif command[0] == \"remove\":\n",
        "            lst.remove(int(command[1]))\n",
        "        elif command[0] == \"append\":\n",
        "            lst.append(int(command[1]))\n",
        "        elif command[0] == \"sort\":\n",
        "            lst.sort()\n",
        "        elif command[0] == \"pop\":\n",
        "            lst.pop()\n",
        "        else:\n",
        "            lst.reverse()"
      ]
    },
    {
      "cell_type": "markdown",
      "metadata": {
        "id": "Y1mo6HqbLvfN"
      },
      "source": [
        "Question 5"
      ]
    },
    {
      "cell_type": "code",
      "execution_count": 19,
      "metadata": {
        "colab": {
          "base_uri": "https://localhost:8080/"
        },
        "id": "OYhIXNqWLTcM",
        "outputId": "17d34ba0-c29f-40df-cf86-939fde2ca4e7"
      },
      "outputs": [
        {
          "name": "stdout",
          "output_type": "stream",
          "text": [
            "2 5 -9 -8\n",
            "[-8. -9.  5.  2.]\n"
          ]
        }
      ],
      "source": [
        "import numpy\n",
        "\n",
        "def arrays(arr):\n",
        "    return(numpy.array(arr[::-1], float))\n",
        "\n",
        "arr = input().strip().split(' ')\n",
        "result = arrays(arr)\n",
        "print(result)"
      ]
    },
    {
      "cell_type": "markdown",
      "metadata": {
        "id": "v74758zINVlr"
      },
      "source": [
        "Question 6"
      ]
    },
    {
      "cell_type": "code",
      "execution_count": 21,
      "metadata": {
        "colab": {
          "base_uri": "https://localhost:8080/"
        },
        "id": "M-1vufSSNWfY",
        "outputId": "504a2c04-71e6-4cbf-80a2-88f0521f8068"
      },
      "outputs": [
        {
          "name": "stdout",
          "output_type": "stream",
          "text": [
            "7\n",
            "[0, 1, 1, 8, 27, 125, 512]\n"
          ]
        }
      ],
      "source": [
        "cube = lambda x: x ** 3\n",
        "\n",
        "def fibonacci(n):\n",
        "    if n == 0:\n",
        "        return []\n",
        "    if n == 1:\n",
        "        return [0]\n",
        "    series = [0, 1]\n",
        "    for i in range(2, n):\n",
        "        next = series[i - 1] + series[i - 2]\n",
        "        series.append(next)\n",
        "    return series\n",
        "\n",
        "if __name__ == '__main__':\n",
        "    n = int(input())\n",
        "    print(list(map(cube, fibonacci(n))))"
      ]
    },
    {
      "cell_type": "markdown",
      "metadata": {
        "id": "4w7oX5FJOsoc"
      },
      "source": [
        "Question 7"
      ]
    },
    {
      "cell_type": "code",
      "execution_count": 22,
      "metadata": {
        "colab": {
          "base_uri": "https://localhost:8080/"
        },
        "id": "lJRcq6YsOqFS",
        "outputId": "86733d1b-9ded-41cb-ce10-82654f711481"
      },
      "outputs": [
        {
          "name": "stdout",
          "output_type": "stream",
          "text": [
            "7\n",
            "append 0\n",
            "append 5\n",
            "insert 4 1\n",
            "insert 6 1\n",
            "append -3\n",
            "sort\n",
            "print\n",
            "[-3, 0, 1, 1, 5]\n"
          ]
        }
      ],
      "source": [
        "if __name__ == '__main__':\n",
        "    N = int(input())\n",
        "    lst = []\n",
        "    for i in range(N):\n",
        "        command = input().split()\n",
        "        if command[0] == \"insert\":\n",
        "            lst.insert(int(command[1]),int(command[2]))\n",
        "        elif command[0] == \"print\":\n",
        "            print(lst)\n",
        "        elif command[0] == \"remove\":\n",
        "            lst.remove(int(command[1]))\n",
        "        elif command[0] == \"append\":\n",
        "            lst.append(int(command[1]))\n",
        "        elif command[0] == \"sort\":\n",
        "            lst.sort()\n",
        "        elif command[0] == \"pop\":\n",
        "            lst.pop()\n",
        "        else:\n",
        "            lst.reverse()"
      ]
    }
  ],
  "metadata": {
    "colab": {
      "provenance": []
    },
    "kernelspec": {
      "display_name": "Python 3",
      "name": "python3"
    },
    "language_info": {
      "name": "python"
    }
  },
  "nbformat": 4,
  "nbformat_minor": 0
}
